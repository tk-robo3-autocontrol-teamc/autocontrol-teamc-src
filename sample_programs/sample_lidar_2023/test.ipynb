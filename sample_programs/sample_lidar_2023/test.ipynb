{
 "cells": [
  {
   "cell_type": "code",
   "execution_count": null,
   "metadata": {},
   "outputs": [
    {
     "ename": "",
     "evalue": "",
     "output_type": "error",
     "traceback": [
      "\u001b[1;31mRunning cells with 'Python 3.10.12' requires the ipykernel package.\n",
      "\u001b[1;31mRun the following command to install 'ipykernel' into the Python environment. \n",
      "\u001b[1;31mCommand: '/usr/bin/python3 -m pip install ipykernel -U --user --force-reinstall'"
     ]
    }
   ],
   "source": [
    "f = open('test.txt', 'r', encoding='UTF-8')\n",
    "\n",
    "datalist = f.readlines()\n",
    "for i in range(0, 10):\n",
    "    print(datalist[i].split()[0], datalist[i].split()[1])"
   ]
  },
  {
   "cell_type": "code",
   "execution_count": null,
   "metadata": {},
   "outputs": [
    {
     "ename": "",
     "evalue": "",
     "output_type": "error",
     "traceback": [
      "\u001b[1;31mRunning cells with 'Python 3.10.12' requires the ipykernel package.\n",
      "\u001b[1;31mRun the following command to install 'ipykernel' into the Python environment. \n",
      "\u001b[1;31mCommand: '/bin/python3 -m pip install ipykernel -U --user --force-reinstall'"
     ]
    }
   ],
   "source": [
    "from math import cos, sin, pi\n",
    "import matplotlib.pyplot as plt\n",
    "\n",
    "th = []\n",
    "r = []\n",
    "x = []\n",
    "y = []\n",
    "\n",
    "f = open(\"test_20240514.txt\", \"r\", encoding=\"UTF-8\")\n",
    "datalist = f.readlines()\n",
    "print(len(datalist))\n",
    "for i in range(18, len(datalist)-2):\n",
    "    th_l = float(datalist[i].split()[0])  # 角度θ [rad]\n",
    "    r_l = float(datalist[i].split()[1])   # 距離r [m]\n",
    "\n",
    "    th.append(th_l)\n",
    "    r.append(r_l)\n",
    "    x.append(r_l*cos(th_l))\n",
    "    y.append(r_l*sin(th_l))\n",
    "\n",
    "f2 = open(\"myfile.txt\", \"w\", encoding=\"UTF-8\")\n",
    "for i in range(len(th)):\n",
    "    if th[i] >= 0:\n",
    "        th_ = pi-th[i]\n",
    "    else:\n",
    "        th_ = th[i]-pi\n",
    "\n",
    "    f2.write(f\"[ラジアンθ : {str(th[i]).ljust(9, '0')} rad] [ラジアン2 : {str(th_).ljust(20, '0')} rad] [角度θ : {str(th_*(180/3.14)).ljust(19, '0')} 度] [距離r : {str(r[i]).ljust(5, '0')} m] [x座標 : {str(x[i]).ljust(21, '0')} m] [y座標 : {str(y[i]).ljust(21, '0')} m]\\n\")\n",
    "\n",
    "# 0       0       -180\n",
    "# 180     -360    0\n",
    "# -180    -180    -360\n",
    "\n",
    "# 散布図を描画\n",
    "plt.scatter(x, y)\n",
    "plt.grid()"
   ]
  }
 ],
 "metadata": {
  "kernelspec": {
   "display_name": "Python 3",
   "language": "python",
   "name": "python3"
  },
  "language_info": {
   "codemirror_mode": {
    "name": "ipython",
    "version": 3
   },
   "file_extension": ".py",
   "mimetype": "text/x-python",
   "name": "python",
   "nbconvert_exporter": "python",
   "pygments_lexer": "ipython3",
   "version": "3.10.12"
  }
 },
 "nbformat": 4,
 "nbformat_minor": 2
}
